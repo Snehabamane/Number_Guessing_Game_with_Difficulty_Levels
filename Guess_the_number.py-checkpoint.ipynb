{
 "cells": [
  {
   "cell_type": "code",
   "execution_count": 3,
   "id": "f2abc233",
   "metadata": {},
   "outputs": [
    {
     "name": "stdout",
     "output_type": "stream",
     "text": [
      "Let me think of a number between 1 to 50.\n",
      "Choose the level of difficulty... Type 'easy' or 'hard': hard\n",
      "You have 5 attempts remaining to guess the number.\n",
      "Guess a number: 6\n",
      "Your guess is too low.\n",
      "You have 4 attempts remaining to guess the number.\n",
      "Guess a number: 8\n",
      "Your guess is too low.\n",
      "You have 3 attempts remaining to guess the number.\n",
      "Guess a number: 9\n",
      "Your guess is too low.\n",
      "You have 2 attempts remaining to guess the number.\n",
      "Guess a number: 9\n",
      "Your guess is too low.\n",
      "You have 1 attempts remaining to guess the number.\n",
      "Guess a number: 8\n",
      "Your guess is too low.\n",
      "Sorry, you've run out of attempts. The correct number was 40.\n"
     ]
    }
   ],
   "source": [
    "import random\n",
    "\n",
    "EASY_LEVEL_ATTEMPTS = 10\n",
    "HARD_LEVEL_ATTEMPTS = 5\n",
    "\n",
    "def set_difficulty(level_chosen):\n",
    "    if level_chosen == 'easy':\n",
    "        return EASY_LEVEL_ATTEMPTS\n",
    "    elif level_chosen == 'hard':\n",
    "        return HARD_LEVEL_ATTEMPTS\n",
    "    else:\n",
    "        return None  # Return None if an invalid difficulty is chosen\n",
    "\n",
    "def check_answer(guessed_number, answer, attempts):\n",
    "    if guessed_number < answer:\n",
    "        print(\"Your guess is too low.\")\n",
    "        return attempts - 1\n",
    "    elif guessed_number > answer:\n",
    "        print(\"Your guess is too high.\")\n",
    "        return attempts - 1\n",
    "    else:\n",
    "        print(f\"Congratulations! You've guessed the correct number: {answer}\")\n",
    "        return 0  # Return 0 to indicate the correct guess and stop the loop.\n",
    "\n",
    "def play_game():\n",
    "    print(\"Let me think of a number between 1 to 50.\")\n",
    "\n",
    "    answer = random.randint(1, 50)\n",
    "    # print(answer)  # This line is for debugging; you can remove it in the actual game.\n",
    "\n",
    "    level = input(\"Choose the level of difficulty... Type 'easy' or 'hard': \")\n",
    "    attempts = set_difficulty(level)\n",
    "\n",
    "    if attempts is None:\n",
    "        print(\"You have entered the wrong difficulty level. Please play again!\")\n",
    "        return  # Exit the function gracefully\n",
    "\n",
    "    guessed_number = 0\n",
    "    while guessed_number != answer and attempts > 0:\n",
    "        print(f\"You have {attempts} attempts remaining to guess the number.\")\n",
    "        \n",
    "        # Input validation loop\n",
    "        while True:\n",
    "            guess_input = input(\"Guess a number: \")\n",
    "            if guess_input.isdigit():\n",
    "                guessed_number = int(guess_input)\n",
    "                break\n",
    "            else:\n",
    "                print(\"Invalid input. Please enter a valid number.\")\n",
    "\n",
    "        attempts = check_answer(guessed_number, answer, attempts)\n",
    "\n",
    "        if attempts == 0 and guessed_number != answer:\n",
    "            print(f\"Sorry, you've run out of attempts. The correct number was {answer}.\")\n",
    "\n",
    "play_game()\n",
    "\n"
   ]
  },
  {
   "cell_type": "markdown",
   "id": "000b4635",
   "metadata": {},
   "source": []
  }
 ],
 "metadata": {
  "kernelspec": {
   "display_name": "Python 3 (ipykernel)",
   "language": "python",
   "name": "python3"
  },
  "language_info": {
   "codemirror_mode": {
    "name": "ipython",
    "version": 3
   },
   "file_extension": ".py",
   "mimetype": "text/x-python",
   "name": "python",
   "nbconvert_exporter": "python",
   "pygments_lexer": "ipython3",
   "version": "3.9.12"
  }
 },
 "nbformat": 4,
 "nbformat_minor": 5
}
